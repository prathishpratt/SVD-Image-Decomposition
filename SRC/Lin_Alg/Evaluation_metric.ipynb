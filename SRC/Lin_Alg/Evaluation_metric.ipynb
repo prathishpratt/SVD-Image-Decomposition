{
 "cells": [
  {
   "cell_type": "markdown",
   "id": "4fecf5fe-8118-40f8-a405-40c2a9521fe2",
   "metadata": {},
   "source": [
    "## Image Compression using Singular Value Decomposition and comparison with SOTA method\n",
    "\n",
    "**Course:** DSC210: Numerical Linear Algebra for Data Science\n",
    "\n",
    "**Instructor:** Dr. Tsui-wei Weng\n",
    "\n",
    "**Group number:** 4\n",
    "\n",
    "**Group topic:** Topic 11: CV/image processing-related\n",
    "\n",
    "\n",
    "**Group members:**\n",
    "\n",
    "*   Dinesh Karthikeyan\n",
    "*   Nandita Sanjivi\n",
    "*   Prathish Murugan"
   ]
  },
  {
   "cell_type": "markdown",
   "id": "c4fa20d7-2114-422e-9c8c-5bdb0c3d4a98",
   "metadata": {},
   "source": [
    "## This notebook is intended to evaluate our SVD method with the SOTA method"
   ]
  },
  {
   "cell_type": "markdown",
   "id": "0b47eb92-6125-491c-a5b3-9ae2f2a1397a",
   "metadata": {},
   "source": [
    "### The compression method is same as the Image_SVD.ipynb notebook. Refer that for more details"
   ]
  },
  {
   "cell_type": "code",
   "execution_count": 1,
   "id": "5e1efb5d-1a3a-4260-9362-5435fc3bf701",
   "metadata": {},
   "outputs": [],
   "source": [
    "# Importing Libraries\n",
    "import numpy as np\n",
    "from skimage.metrics import structural_similarity as ssim  #The Structural Similarity Index (SSIM)"
   ]
  },
  {
   "cell_type": "code",
   "execution_count": 2,
   "id": "e6b8b9f1-651d-41e5-a0df-cd19a7f74e62",
   "metadata": {},
   "outputs": [],
   "source": [
    "# Get the Mean Squared Error\n",
    "def get_mse(decoded_img_arr, original_img_arr):\n",
    "    ''' \n",
    "    The 'Mean Squared Error' between the two images is the\n",
    "\tsum of the squared difference between the two images;\n",
    "\tNote: the two images must have the same dimension \n",
    "    '''\n",
    "    \n",
    "    mse = np.sum((original_img_arr.astype(\"float\") - decoded_img_arr.astype(\"float\")) ** 2)\n",
    "    mse /= float(original_img_arr.shape[0] * decoded_img_arr.shape[1])\n",
    "    \n",
    "    # Return the mean-squared-error\n",
    "    return round(mse, 3)"
   ]
  },
  {
   "cell_type": "code",
   "execution_count": 3,
   "id": "22346dc5-26cb-4bbc-9f9a-b96250550f22",
   "metadata": {},
   "outputs": [],
   "source": [
    "def ssim_k(original_img_arr, pic_rgb):\n",
    "    '''\n",
    "    Calculate Structural Similarity Index (SSIM).\n",
    "    SSIM is used for measuring the similarity between two images.\n",
    "    Perceptual metric that quantifies the degradation of images\n",
    "    Closer to 1 is better\n",
    "    '''\n",
    "    \n",
    "    return round(ssim(original_img_arr, pic_rgb,  multichannel=True, win_size=3, data_range = 255),3)"
   ]
  },
  {
   "cell_type": "code",
   "execution_count": null,
   "id": "eba38434-1f00-4275-9368-a2aecd2ca03d",
   "metadata": {},
   "outputs": [],
   "source": []
  }
 ],
 "metadata": {
  "kernelspec": {
   "display_name": "Python 3 (ipykernel)",
   "language": "python",
   "name": "python3"
  },
  "language_info": {
   "codemirror_mode": {
    "name": "ipython",
    "version": 3
   },
   "file_extension": ".py",
   "mimetype": "text/x-python",
   "name": "python",
   "nbconvert_exporter": "python",
   "pygments_lexer": "ipython3",
   "version": "3.9.13"
  }
 },
 "nbformat": 4,
 "nbformat_minor": 5
}
